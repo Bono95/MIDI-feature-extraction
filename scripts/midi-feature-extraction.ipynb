{
 "cells": [
  {
   "cell_type": "code",
   "execution_count": 1,
   "id": "21395855",
   "metadata": {
    "execution": {
     "iopub.execute_input": "2022-01-22T21:31:46.904967Z",
     "iopub.status.busy": "2022-01-22T21:31:46.904281Z",
     "iopub.status.idle": "2022-01-22T21:32:19.444573Z",
     "shell.execute_reply": "2022-01-22T21:32:19.443721Z",
     "shell.execute_reply.started": "2022-01-22T21:08:21.794033Z"
    },
    "papermill": {
     "duration": 32.557227,
     "end_time": "2022-01-22T21:32:19.444756",
     "exception": false,
     "start_time": "2022-01-22T21:31:46.887529",
     "status": "completed"
    },
    "tags": []
   },
   "outputs": [
    {
     "name": "stdout",
     "output_type": "stream",
     "text": [
      "Collecting music21\r\n",
      "  Downloading music21-7.1.0.tar.gz (19.2 MB)\r\n",
      "     |████████████████████████████████| 19.2 MB 4.5 MB/s            \r\n",
      "\u001b[?25h  Preparing metadata (setup.py) ... \u001b[?25l-\b \b\\\b \b|\b \b/\b \bdone\r\n",
      "\u001b[?25hRequirement already satisfied: chardet in /opt/conda/lib/python3.7/site-packages (from music21) (4.0.0)\r\n",
      "Requirement already satisfied: joblib in /opt/conda/lib/python3.7/site-packages (from music21) (1.1.0)\r\n",
      "Collecting jsonpickle\r\n",
      "  Downloading jsonpickle-2.1.0-py2.py3-none-any.whl (38 kB)\r\n",
      "Requirement already satisfied: matplotlib in /opt/conda/lib/python3.7/site-packages (from music21) (3.5.1)\r\n",
      "Requirement already satisfied: more_itertools in /opt/conda/lib/python3.7/site-packages (from music21) (8.12.0)\r\n",
      "Requirement already satisfied: numpy in /opt/conda/lib/python3.7/site-packages (from music21) (1.19.5)\r\n",
      "Collecting webcolors>=1.5\r\n",
      "  Downloading webcolors-1.11.1-py3-none-any.whl (9.9 kB)\r\n",
      "Requirement already satisfied: importlib-metadata in /opt/conda/lib/python3.7/site-packages (from jsonpickle->music21) (4.10.0)\r\n",
      "Requirement already satisfied: cycler>=0.10 in /opt/conda/lib/python3.7/site-packages (from matplotlib->music21) (0.11.0)\r\n",
      "Requirement already satisfied: pyparsing>=2.2.1 in /opt/conda/lib/python3.7/site-packages (from matplotlib->music21) (3.0.6)\r\n",
      "Requirement already satisfied: packaging>=20.0 in /opt/conda/lib/python3.7/site-packages (from matplotlib->music21) (21.3)\r\n",
      "Requirement already satisfied: pillow>=6.2.0 in /opt/conda/lib/python3.7/site-packages (from matplotlib->music21) (8.2.0)\r\n",
      "Requirement already satisfied: python-dateutil>=2.7 in /opt/conda/lib/python3.7/site-packages (from matplotlib->music21) (2.8.0)\r\n",
      "Requirement already satisfied: fonttools>=4.22.0 in /opt/conda/lib/python3.7/site-packages (from matplotlib->music21) (4.28.2)\r\n",
      "Requirement already satisfied: kiwisolver>=1.0.1 in /opt/conda/lib/python3.7/site-packages (from matplotlib->music21) (1.3.2)\r\n",
      "Requirement already satisfied: six>=1.5 in /opt/conda/lib/python3.7/site-packages (from python-dateutil>=2.7->matplotlib->music21) (1.16.0)\r\n",
      "Requirement already satisfied: typing-extensions>=3.6.4 in /opt/conda/lib/python3.7/site-packages (from importlib-metadata->jsonpickle->music21) (3.10.0.2)\r\n",
      "Requirement already satisfied: zipp>=0.5 in /opt/conda/lib/python3.7/site-packages (from importlib-metadata->jsonpickle->music21) (3.6.0)\r\n",
      "Building wheels for collected packages: music21\r\n",
      "  Building wheel for music21 (setup.py) ... \u001b[?25l-\b \b\\\b \b|\b \b/\b \b-\b \b\\\b \b|\b \b/\b \b-\b \b\\\b \b|\b \b/\b \b-\b \b\\\b \b|\b \b/\b \b-\b \b\\\b \b|\b \b/\b \b-\b \b\\\b \b|\b \b/\b \b-\b \b\\\b \b|\b \b/\b \b-\b \b\\\b \b|\b \b/\b \b-\b \b\\\b \b|\b \b/\b \b-\b \b\\\b \b|\b \b/\b \b-\b \b\\\b \b|\b \b/\b \b-\b \b\\\b \b|\b \b/\b \b-\b \b\\\b \b|\b \b/\b \b-\b \b\\\b \b|\b \b/\b \b-\b \b\\\b \b|\b \b/\b \b-\b \b\\\b \b|\b \b/\b \b-\b \b\\\b \b|\b \bdone\r\n",
      "\u001b[?25h  Created wheel for music21: filename=music21-7.1.0-py3-none-any.whl size=21912606 sha256=1be84eee6aea4cd9178eacb13080bfaa6b3b6351278e37e4e9f4d4a996b38fb2\r\n",
      "  Stored in directory: /root/.cache/pip/wheels/98/3c/67/9e30a8a4c3ac934068c95d2c27e38e1b5e5016a9257dbbf5d0\r\n",
      "Successfully built music21\r\n",
      "Installing collected packages: webcolors, jsonpickle, music21\r\n",
      "Successfully installed jsonpickle-2.1.0 music21-7.1.0 webcolors-1.11.1\r\n",
      "\u001b[33mWARNING: Running pip as the 'root' user can result in broken permissions and conflicting behaviour with the system package manager. It is recommended to use a virtual environment instead: https://pip.pypa.io/warnings/venv\u001b[0m\r\n"
     ]
    }
   ],
   "source": [
    "!pip install music21"
   ]
  },
  {
   "cell_type": "code",
   "execution_count": 2,
   "id": "fa96934f",
   "metadata": {
    "execution": {
     "iopub.execute_input": "2022-01-22T21:32:19.532824Z",
     "iopub.status.busy": "2022-01-22T21:32:19.532115Z",
     "iopub.status.idle": "2022-01-22T21:32:19.891124Z",
     "shell.execute_reply": "2022-01-22T21:32:19.891655Z",
     "shell.execute_reply.started": "2022-01-22T21:08:55.919235Z"
    },
    "papermill": {
     "duration": 0.404196,
     "end_time": "2022-01-22T21:32:19.891866",
     "exception": false,
     "start_time": "2022-01-22T21:32:19.487670",
     "status": "completed"
    },
    "tags": []
   },
   "outputs": [],
   "source": [
    "import numpy as np\n",
    "import os\n",
    "\n",
    "from music21 import *"
   ]
  },
  {
   "cell_type": "code",
   "execution_count": 3,
   "id": "e4c72a60",
   "metadata": {
    "_cell_guid": "b1076dfc-b9ad-4769-8c92-a6c4dae69d19",
    "_uuid": "8f2839f25d086af736a60e9eeb907d3b93b6e0e5",
    "execution": {
     "iopub.execute_input": "2022-01-22T21:32:19.988573Z",
     "iopub.status.busy": "2022-01-22T21:32:19.977803Z",
     "iopub.status.idle": "2022-01-22T21:32:19.991378Z",
     "shell.execute_reply": "2022-01-22T21:32:19.991963Z",
     "shell.execute_reply.started": "2022-01-22T21:12:09.134784Z"
    },
    "papermill": {
     "duration": 0.059057,
     "end_time": "2022-01-22T21:32:19.992182",
     "exception": false,
     "start_time": "2022-01-22T21:32:19.933125",
     "status": "completed"
    },
    "tags": []
   },
   "outputs": [],
   "source": [
    "def extract_features(midi_file, path):\n",
    "    extracted_features = [\n",
    "        features.native.MajorTriadSimultaneityPrevalence(midi_file).extract().vector,\n",
    "        features.native.MinorTriadSimultaneityPrevalence(midi_file).extract().vector,\n",
    "        features.native.MostCommonNoteQuarterLength(midi_file).extract().vector,\n",
    "        features.native.QualityFeature(midi_file).extract().vector,\n",
    "        features.native.RangeOfNoteQuarterLengths(midi_file).extract().vector,\n",
    "        features.jSymbolic.AverageMelodicIntervalFeature(midi_file).extract().vector,\n",
    "        features.jSymbolic.AverageNoteDurationFeature(midi_file).extract().vector,\n",
    "        features.jSymbolic.AverageTimeBetweenAttacksFeature(midi_file).extract().vector,\n",
    "        features.jSymbolic.BasicPitchHistogramFeature(midi_file).extract().vector,\n",
    "        features.jSymbolic.ChangesOfMeterFeature(midi_file).extract().vector,\n",
    "        features.jSymbolic.DirectionOfMotionFeature(midi_file).extract().vector,\n",
    "        features.jSymbolic.BasicPitchHistogramFeature(midi_file).extract().vector,\n",
    "        features.jSymbolic.MaximumNoteDurationFeature(midi_file).extract().vector,\n",
    "        features.jSymbolic.MelodicIntervalHistogramFeature(midi_file).extract().vector,\n",
    "        features.jSymbolic.MelodicOctavesFeature(midi_file).extract().vector,\n",
    "        features.jSymbolic.MinimumNoteDurationFeature(midi_file).extract().vector,\n",
    "        features.jSymbolic.MostCommonMelodicIntervalFeature(midi_file).extract().vector,\n",
    "        features.jSymbolic.NoteDensityFeature(midi_file).extract().vector,\n",
    "        features.jSymbolic.PitchVarietyFeature(midi_file).extract().vector,\n",
    "        features.jSymbolic.RepeatedNotesFeature(midi_file).extract().vector\n",
    "    ]\n",
    "    \n",
    "    extracted_features_flattened = [item for sublist in extracted_features for item in sublist]\n",
    "    extracted_features_flattened.insert(0, path)\n",
    "    \n",
    "    return extracted_features_flattened"
   ]
  },
  {
   "cell_type": "code",
   "execution_count": 4,
   "id": "dcb911ec",
   "metadata": {
    "execution": {
     "iopub.execute_input": "2022-01-22T21:32:20.078726Z",
     "iopub.status.busy": "2022-01-22T21:32:20.078023Z",
     "iopub.status.idle": "2022-01-23T00:34:38.392901Z",
     "shell.execute_reply": "2022-01-23T00:34:38.394040Z",
     "shell.execute_reply.started": "2022-01-22T21:12:27.782393Z"
    },
    "papermill": {
     "duration": 10938.362715,
     "end_time": "2022-01-23T00:34:38.394807",
     "exception": false,
     "start_time": "2022-01-22T21:32:20.032092",
     "status": "completed"
    },
    "tags": []
   },
   "outputs": [
    {
     "name": "stderr",
     "output_type": "stream",
     "text": [
      "/opt/conda/lib/python3.7/site-packages/music21/midi/translate.py:792: TranslateWarning: Unable to determine instrument from <music21.midi.MidiEvent PROGRAM_CHANGE, track=4, channel=10, data=121>; getting generic UnpitchedPercussion\n",
      "  TranslateWarning)\n"
     ]
    }
   ],
   "source": [
    "midi_names = []\n",
    "midi_feature_array = []\n",
    "for path in os.listdir('../input/midi-set-expanded/midi-set'):\n",
    "    midi_m21 = converter.parse('../input/midi-set-expanded/midi-set/' + path)\n",
    "    \n",
    "    if features.jSymbolic.DurationFeature(midi_m21).extract().vector[0] < 10:\n",
    "        continue\n",
    "    \n",
    "    midi_feature_array.append(extract_features(midi_m21, path))"
   ]
  },
  {
   "cell_type": "code",
   "execution_count": 5,
   "id": "d1fd33fb",
   "metadata": {
    "execution": {
     "iopub.execute_input": "2022-01-23T00:34:38.491077Z",
     "iopub.status.busy": "2022-01-23T00:34:38.490198Z",
     "iopub.status.idle": "2022-01-23T00:34:38.494664Z",
     "shell.execute_reply": "2022-01-23T00:34:38.495233Z"
    },
    "papermill": {
     "duration": 0.050268,
     "end_time": "2022-01-23T00:34:38.495421",
     "exception": false,
     "start_time": "2022-01-23T00:34:38.445153",
     "status": "completed"
    },
    "tags": []
   },
   "outputs": [
    {
     "name": "stdout",
     "output_type": "stream",
     "text": [
      "223\n"
     ]
    }
   ],
   "source": [
    "print(len(midi_feature_array))"
   ]
  },
  {
   "cell_type": "code",
   "execution_count": 6,
   "id": "88bc4b9e",
   "metadata": {
    "execution": {
     "iopub.execute_input": "2022-01-23T00:34:38.580949Z",
     "iopub.status.busy": "2022-01-23T00:34:38.580278Z",
     "iopub.status.idle": "2022-01-23T00:34:38.653925Z",
     "shell.execute_reply": "2022-01-23T00:34:38.654522Z",
     "shell.execute_reply.started": "2022-01-22T21:18:04.075586Z"
    },
    "papermill": {
     "duration": 0.118084,
     "end_time": "2022-01-23T00:34:38.654726",
     "exception": false,
     "start_time": "2022-01-23T00:34:38.536642",
     "status": "completed"
    },
    "tags": []
   },
   "outputs": [],
   "source": [
    "import csv\n",
    "with open('extracted_midi_features.csv', 'w', newline='') as file:\n",
    "    mywriter = csv.writer(file, delimiter=',')\n",
    "    mywriter.writerows(midi_feature_array)"
   ]
  },
  {
   "cell_type": "code",
   "execution_count": null,
   "id": "fbed0b6b",
   "metadata": {
    "papermill": {
     "duration": 0.042451,
     "end_time": "2022-01-23T00:34:38.737988",
     "exception": false,
     "start_time": "2022-01-23T00:34:38.695537",
     "status": "completed"
    },
    "tags": []
   },
   "outputs": [],
   "source": []
  },
  {
   "cell_type": "code",
   "execution_count": null,
   "id": "999fb9e6",
   "metadata": {
    "papermill": {
     "duration": 0.042446,
     "end_time": "2022-01-23T00:34:38.821603",
     "exception": false,
     "start_time": "2022-01-23T00:34:38.779157",
     "status": "completed"
    },
    "tags": []
   },
   "outputs": [],
   "source": []
  }
 ],
 "metadata": {
  "kernelspec": {
   "display_name": "Python 3",
   "language": "python",
   "name": "python3"
  },
  "language_info": {
   "codemirror_mode": {
    "name": "ipython",
    "version": 3
   },
   "file_extension": ".py",
   "mimetype": "text/x-python",
   "name": "python",
   "nbconvert_exporter": "python",
   "pygments_lexer": "ipython3",
   "version": "3.7.12"
  },
  "papermill": {
   "default_parameters": {},
   "duration": 10983.170644,
   "end_time": "2022-01-23T00:34:39.818970",
   "environment_variables": {},
   "exception": null,
   "input_path": "__notebook__.ipynb",
   "output_path": "__notebook__.ipynb",
   "parameters": {},
   "start_time": "2022-01-22T21:31:36.648326",
   "version": "2.3.3"
  }
 },
 "nbformat": 4,
 "nbformat_minor": 5
}
